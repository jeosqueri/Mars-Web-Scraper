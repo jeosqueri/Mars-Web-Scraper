{
 "cells": [
  {
   "cell_type": "code",
   "execution_count": 26,
   "metadata": {},
   "outputs": [],
   "source": [
    "# Dependencies\n",
    "from splinter import Browser\n",
    "from bs4 import BeautifulSoup as bs\n",
    "import requests\n",
    "from webdriver_manager.chrome import ChromeDriverManager\n",
    "import pandas as pd"
   ]
  },
  {
   "cell_type": "markdown",
   "metadata": {},
   "source": [
    "## Step 1: Scraping"
   ]
  },
  {
   "cell_type": "code",
   "execution_count": 27,
   "metadata": {},
   "outputs": [
    {
     "name": "stderr",
     "output_type": "stream",
     "text": [
      "[WDM] - Current google-chrome version is 87.0.4280\n",
      "[WDM] - Get LATEST driver version for 87.0.4280\n",
      "[WDM] - Driver [/Users/juliasqueri/.wdm/drivers/chromedriver/mac64/87.0.4280.88/chromedriver] found in cache\n"
     ]
    },
    {
     "name": "stdout",
     "output_type": "stream",
     "text": [
      " \n"
     ]
    }
   ],
   "source": [
    "#Setup splinter\n",
    "executable_path = {'executable_path': ChromeDriverManager().install()}\n",
    "browser = Browser('chrome', **executable_path, headless=False)"
   ]
  },
  {
   "cell_type": "markdown",
   "metadata": {},
   "source": [
    "### NASA Mars News"
   ]
  },
  {
   "cell_type": "code",
   "execution_count": 11,
   "metadata": {},
   "outputs": [],
   "source": [
    "#Load in website URL to scrape\n",
    "url = 'https://mars.nasa.gov/news/'\n",
    "browser.visit(url)"
   ]
  },
  {
   "cell_type": "code",
   "execution_count": 12,
   "metadata": {},
   "outputs": [],
   "source": [
    "soup = bs(browser.html, 'html.parser')\n",
    "#print(soup.prettify())"
   ]
  },
  {
   "cell_type": "code",
   "execution_count": 13,
   "metadata": {},
   "outputs": [
    {
     "data": {
      "text/plain": [
       "[<div class=\"content_title\">Mars Now</div>,\n",
       " <div class=\"content_title\"><a href=\"/news/8805/moxie-could-help-future-rockets-launch-off-mars/\" target=\"_self\">MOXIE Could Help Future Rockets Launch Off Mars</a></div>,\n",
       " <div class=\"content_title\"><a href=\"/news/8801/hear-audio-from-nasas-perseverance-as-it-travels-through-deep-space/\" target=\"_self\">Hear Audio From NASA's Perseverance As It Travels Through Deep Space</a></div>,\n",
       " <div class=\"content_title\"><a href=\"/news/8798/mars-is-getting-a-new-robotic-meteorologist/\" target=\"_self\">Mars Is Getting a New Robotic Meteorologist</a></div>,\n",
       " <div class=\"content_title\"><a href=\"/news/8797/heat-and-dust-help-launch-martian-water-into-space-scientists-find/\" target=\"_self\">Heat and Dust Help Launch Martian Water Into Space, Scientists Find</a></div>,\n",
       " <div class=\"content_title\"><a href=\"/news/8796/nasas-curiosity-takes-selfie-with-mary-anning-on-the-red-planet/\" target=\"_self\">NASA's Curiosity Takes Selfie With 'Mary Anning' on the Red Planet</a></div>,\n",
       " <div class=\"content_title\"><a href=\"/news/8794/independent-review-indicates-nasa-prepared-for-mars-sample-return-campaign/\" target=\"_self\">Independent Review Indicates NASA Prepared for Mars Sample Return Campaign</a></div>,\n",
       " <div class=\"content_title\"><a href=\"/news/8792/nasas-perseverance-rover-100-days-out/\" target=\"_self\">NASA's Perseverance Rover 100 Days Out</a></div>,\n",
       " <div class=\"content_title\"><a href=\"/news/8785/nasas-perseverance-rover-is-midway-to-mars/\" target=\"_self\">NASA's Perseverance Rover Is Midway to Mars </a></div>,\n",
       " <div class=\"content_title\"><a href=\"/news/8782/sensors-on-mars-2020-spacecraft-answer-long-distance-call-from-earth/\" target=\"_self\">Sensors on Mars 2020 Spacecraft Answer Long-Distance Call From Earth</a></div>,\n",
       " <div class=\"content_title\"><a href=\"/news/8778/nasas-perseverance-rover-bringing-3d-printed-metal-parts-to-mars/\" target=\"_self\">NASA's Perseverance Rover Bringing 3D-Printed Metal Parts to Mars</a></div>,\n",
       " <div class=\"content_title\"><a href=\"/news/8776/nasa-insights-mole-is-out-of-sight/\" target=\"_self\">NASA InSight's 'Mole' Is Out of Sight</a></div>,\n",
       " <div class=\"content_title\"><a href=\"/news/8770/nasas-perseverance-rover-will-peer-beneath-mars-surface/\" target=\"_self\">NASA's Perseverance Rover Will Peer Beneath Mars' Surface </a></div>,\n",
       " <div class=\"content_title\"><a href=\"/news/8765/ai-is-helping-scientists-discover-fresh-craters-on-mars/\" target=\"_self\">AI Is Helping Scientists Discover Fresh Craters on Mars</a></div>,\n",
       " <div class=\"content_title\"><a href=\"/news/8762/nasas-new-mars-rover-is-ready-for-space-lasers/\" target=\"_self\">NASA's New Mars Rover Is Ready for Space Lasers</a></div>,\n",
       " <div class=\"content_title\"><a href=\"/news/8759/nasas-new-mars-rover-will-use-x-rays-to-hunt-fossils/\" target=\"_self\">NASA's New Mars Rover Will Use X-Rays to Hunt Fossils</a></div>,\n",
       " <div class=\"content_title\"><a href=\"/news/8756/my-culture-my-voice/\" target=\"_self\">My Culture, My Voice</a></div>,\n",
       " <div class=\"content_title\"><a href=\"/news/8749/nasa-readies-perseverance-mars-rovers-earthly-twin/\" target=\"_self\">NASA Readies Perseverance Mars Rover's Earthly Twin </a></div>,\n",
       " <div class=\"content_title\"><a href=\"/news/8744/nasa-engineers-checking-insights-weather-sensors/\" target=\"_self\">NASA Engineers Checking InSight's Weather Sensors</a></div>,\n",
       " <div class=\"content_title\"><a href=\"/news/8742/follow-nasas-perseverance-rover-in-real-time-on-its-way-to-mars/\" target=\"_self\">Follow NASA's Perseverance Rover in Real Time on Its Way to Mars</a></div>,\n",
       " <div class=\"content_title\"><a href=\"/news/8737/nasa-establishes-board-to-initially-review-mars-sample-return-plans/\" target=\"_self\">NASA Establishes Board to Initially Review Mars Sample Return Plans</a></div>,\n",
       " <div class=\"content_title\"><a href=\"/news/8736/nasas-ingenuity-mars-helicopter-recharges-its-batteries-in-flight/\" target=\"_self\">NASA's Ingenuity Mars Helicopter Recharges Its Batteries in Flight</a></div>,\n",
       " <div class=\"content_title\"><a href=\"/news/8735/celebrate-mars-reconnaissance-orbiters-views-from-above/\" target=\"_self\">Celebrate Mars Reconnaissance Orbiter's Views From Above</a></div>,\n",
       " <div class=\"content_title\"><a href=\"/news/8731/nasas-maven-observes-martian-night-sky-pulsing-in-ultraviolet-light/\" target=\"_self\">NASA's MAVEN Observes Martian Night Sky Pulsing in Ultraviolet Light</a></div>,\n",
       " <div class=\"content_title\"><a href=\"/news/8726/8-martian-postcards-to-celebrate-curiositys-landing-anniversary/\" target=\"_self\">8 Martian Postcards to Celebrate Curiosity's Landing Anniversary</a></div>,\n",
       " <div class=\"content_title\"><a href=\"/news/8724/nasa-ula-launch-mars-2020-perseverance-rover-mission-to-red-planet/\" target=\"_self\">NASA, ULA Launch Mars 2020 Perseverance Rover Mission to Red Planet</a></div>,\n",
       " <div class=\"content_title\"><a href=\"/news/8723/nasas-perseverance-rover-will-carry-first-spacesuit-materials-to-mars/\" target=\"_self\">NASA's Perseverance Rover Will Carry First Spacesuit Materials to Mars</a></div>,\n",
       " <div class=\"content_title\"><a href=\"/news/8721/a-new-video-captures-the-science-of-nasas-perseverance-mars-rover/\" target=\"_self\">A New Video Captures the Science of NASA's Perseverance Mars Rover</a></div>,\n",
       " <div class=\"content_title\"><a href=\"/news/8719/nasa-invites-public-to-share-excitement-of-mars-2020-perseverance-rover-launch/\" target=\"_self\">NASA Invites Public to Share Excitement of Mars 2020 Perseverance Rover Launch</a></div>,\n",
       " <div class=\"content_title\"><a href=\"/news/8718/nasas-mars-perseverance-rover-passes-flight-readiness-review/\" target=\"_self\">NASA's Mars Perseverance Rover Passes Flight Readiness Review</a></div>,\n",
       " <div class=\"content_title\"><a href=\"/news/8716/nasa-to-broadcast-mars-2020-perseverance-launch-prelaunch-activities/\" target=\"_self\">NASA to Broadcast Mars 2020 Perseverance Launch, Prelaunch Activities</a></div>,\n",
       " <div class=\"content_title\"><a href=\"/news/8712/6-things-to-know-about-nasas-ingenuity-mars-helicopter/\" target=\"_self\">6 Things to Know About NASA's Ingenuity Mars Helicopter</a></div>,\n",
       " <div class=\"content_title\"><a href=\"/news/8710/join-nasa-for-the-launch-of-the-mars-2020-perseverance-rover/\" target=\"_self\">Join NASA for the Launch of the Mars 2020 Perseverance Rover</a></div>,\n",
       " <div class=\"content_title\"><a href=\"/news/8709/nasas-perseverance-rover-attached-to-atlas-v-rocket/\" target=\"_self\">NASA's Perseverance Rover Attached to Atlas V Rocket</a></div>,\n",
       " <div class=\"content_title\"><a href=\"/news/8707/7-things-to-know-about-the-mars-2020-perseverance-rover-mission/\" target=\"_self\">7 Things to Know About the Mars 2020 Perseverance Rover Mission</a></div>,\n",
       " <div class=\"content_title\"><a href=\"/news/8705/nasas-insight-flexes-its-arm-while-its-mole-hits-pause/\" target=\"_self\">NASA's InSight Flexes Its Arm While Its 'Mole' Hits Pause</a></div>,\n",
       " <div class=\"content_title\"><a href=\"/news/8704/curiosity-mars-rovers-summer-road-trip-has-begun/\" target=\"_self\">Curiosity Mars Rover's Summer Road Trip Has Begun</a></div>,\n",
       " <div class=\"content_title\"><a href=\"/news/8699/how-nasas-mars-helicopter-will-reach-the-red-planets-surface/\" target=\"_self\">How NASA's Mars Helicopter Will Reach the Red Planet's Surface</a></div>,\n",
       " <div class=\"content_title\"><a href=\"/news/8695/the-launch-is-approaching-for-nasas-next-mars-rover-perseverance/\" target=\"_self\">The Launch Is Approaching for NASA's Next Mars Rover, Perseverance</a></div>,\n",
       " <div class=\"content_title\"><a href=\"/news/8692/nasa-to-hold-mars-2020-perseverance-rover-launch-briefing/\" target=\"_self\">NASA to Hold Mars 2020 Perseverance Rover Launch Briefing</a></div>,\n",
       " <div class=\"content_title\"><a href=\"/news/8691/while-stargazing-on-mars-nasas-curiosity-rover-spots-earth-and-venus/\" target=\"_self\">While Stargazing on Mars, NASA's Curiosity Rover Spots Earth and Venus</a></div>,\n",
       " <div class=\"content_title\">\n",
       " <a href=\"/news/8645/mars-helicopter-attached-to-nasas-perseverance-rover/\">\n",
       " Mars Helicopter Attached to NASA's Perseverance Rover\n",
       " </a>\n",
       " </div>,\n",
       " <div class=\"content_title\">\n",
       " <a href=\"/news/8641/nasas-perseverance-mars-rover-gets-its-wheels-and-air-brakes/\">\n",
       " NASA's Perseverance Mars Rover Gets Its Wheels and Air Brakes\n",
       " </a>\n",
       " </div>,\n",
       " <div class=\"content_title\">\n",
       " <a href=\"/news/8716/nasa-to-broadcast-mars-2020-perseverance-launch-prelaunch-activities/\">\n",
       " NASA to Broadcast Mars 2020 Perseverance Launch, Prelaunch Activities\n",
       " </a>\n",
       " </div>,\n",
       " <div class=\"content_title\">\n",
       " <a href=\"/news/8695/the-launch-is-approaching-for-nasas-next-mars-rover-perseverance/\">\n",
       " The Launch Is Approaching for NASA's Next Mars Rover, Perseverance\n",
       " </a>\n",
       " </div>,\n",
       " <div class=\"content_title\">\n",
       " <a href=\"/news/8692/nasa-to-hold-mars-2020-perseverance-rover-launch-briefing/\">\n",
       " NASA to Hold Mars 2020 Perseverance Rover Launch Briefing\n",
       " </a>\n",
       " </div>,\n",
       " <div class=\"content_title\">\n",
       " <a href=\"/news/8659/alabama-high-school-student-names-nasas-mars-helicopter/\">\n",
       " Alabama High School Student Names NASA's Mars Helicopter\n",
       " </a>\n",
       " </div>,\n",
       " <div class=\"content_title\">\n",
       " <a href=\"/news/8645/mars-helicopter-attached-to-nasas-perseverance-rover/\">\n",
       " Mars Helicopter Attached to NASA's Perseverance Rover\n",
       " </a>\n",
       " </div>,\n",
       " <div class=\"content_title\">\n",
       " <a href=\"/news/8641/nasas-perseverance-mars-rover-gets-its-wheels-and-air-brakes/\">\n",
       " NASA's Perseverance Mars Rover Gets Its Wheels and Air Brakes\n",
       " </a>\n",
       " </div>,\n",
       " <div class=\"content_title\">\n",
       " <a href=\"/news/8716/nasa-to-broadcast-mars-2020-perseverance-launch-prelaunch-activities/\">\n",
       " NASA to Broadcast Mars 2020 Perseverance Launch, Prelaunch Activities\n",
       " </a>\n",
       " </div>,\n",
       " <div class=\"content_title\">\n",
       " <a href=\"/news/8695/the-launch-is-approaching-for-nasas-next-mars-rover-perseverance/\">\n",
       " The Launch Is Approaching for NASA's Next Mars Rover, Perseverance\n",
       " </a>\n",
       " </div>]"
      ]
     },
     "execution_count": 13,
     "metadata": {},
     "output_type": "execute_result"
    }
   ],
   "source": [
    "#Scrape the NASA mars news site and collect the latests news title and paragraph text. Assign the \n",
    "#text to variables you can reference later\n",
    "\n",
    "#Collect all titles to find latest article\n",
    "all_titles = soup.find_all(name='div', class_='content_title')\n",
    "all_titles"
   ]
  },
  {
   "cell_type": "code",
   "execution_count": 14,
   "metadata": {},
   "outputs": [
    {
     "data": {
      "text/plain": [
       "'MOXIE Could Help Future Rockets Launch Off Mars'"
      ]
     },
     "execution_count": 14,
     "metadata": {},
     "output_type": "execute_result"
    }
   ],
   "source": [
    "#Use indexing to extract the text for the most recent article title and save it to variable\n",
    "news_title = all_titles[1].text.strip()\n",
    "news_title"
   ]
  },
  {
   "cell_type": "code",
   "execution_count": 15,
   "metadata": {},
   "outputs": [
    {
     "data": {
      "text/plain": [
       "[<div class=\"article_teaser_body\">NASA's Perseverance rover carries a device to convert Martian air into oxygen that, if produced on a larger scale, could be used not just for breathing, but also for fuel.</div>,\n",
       " <div class=\"article_teaser_body\">The first to be rigged with microphones, the agency's latest Mars rover picked up the subtle sounds of its own inner workings during interplanetary flight.</div>,\n",
       " <div class=\"article_teaser_body\">Sensors on NASA's Perseverance will help prepare for future human exploration by taking weather measurements and studying dust particles.</div>,\n",
       " <div class=\"article_teaser_body\">Scientists using an instrument aboard NASA’s Mars Atmosphere and Volatile EvolutioN, or MAVEN, spacecraft have discovered that water vapor near the surface of the Red Planet is lofted higher into the atmosphere than anyone expected was possible. </div>,\n",
       " <div class=\"article_teaser_body\">The Mars rover has drilled three samples of rock in this clay-enriched region since arriving in July.</div>,\n",
       " <div class=\"article_teaser_body\">NASA released an independent review report Tuesday indicating the agency is well positioned for its Mars Sample Return campaign to bring pristine samples from Mars to Earth for scientific study.</div>,\n",
       " <div class=\"article_teaser_body\">Mark your calendars: The agency's latest rover has only about 8,640,000 seconds to go before it touches down on the Red Planet, becoming history's next Mars car.</div>,\n",
       " <div class=\"article_teaser_body\">Sometimes half measures can be a good thing – especially on a journey this long. The agency's latest rover only has about 146 million miles left to reach its destination.</div>,\n",
       " <div class=\"article_teaser_body\">Instruments tailored to collect data during the descent of NASA's next rover through the Red Planet's atmosphere have been checked in flight.</div>,\n",
       " <div class=\"article_teaser_body\">For hobbyists and makers, 3D printing expands creative possibilities; for specialized engineers, it's also key to next-generation spacecraft design.</div>,\n",
       " <div class=\"article_teaser_body\">Now that the heat probe is just below the Martian surface, InSight's arm will scoop some additional soil on top to help it keep digging so it can take Mars' temperature.</div>,\n",
       " <div class=\"article_teaser_body\">The agency's newest rover will use the first ground-penetrating radar instrument on the Martian surface to help search for signs of past microbial life. </div>,\n",
       " <div class=\"article_teaser_body\">It's the first time machine learning has been used to find previously unknown craters on the Red Planet.</div>,\n",
       " <div class=\"article_teaser_body\">Perseverance is one of a few Mars spacecraft carrying laser retroreflectors. The devices could provide new science and safer Mars landings in the future.</div>,\n",
       " <div class=\"article_teaser_body\">PIXL, an instrument on the end of the Perseverance rover's arm, will search for chemical fingerprints left by ancient microbes.</div>,\n",
       " <div class=\"article_teaser_body\">In honor of Hispanic Heritage Month, Christina Hernandez, an instrument engineer on the Mars 2020 mission, talks about her childhood and journey to NASA.</div>,\n",
       " <div class=\"article_teaser_body\">Did you know NASA's next Mars rover has a nearly identical sibling on Earth for testing? Even better, it's about to roll for the first time through a replica Martian landscape.</div>,\n",
       " <div class=\"article_teaser_body\">An electronics issue is suspected to be preventing the sensors from sharing their data about Mars weather with the spacecraft.</div>,\n",
       " <div class=\"article_teaser_body\">A crisply rendered web application can show you where the agency's Mars 2020 mission is right now as it makes its way to the Red Planet for a Feb. 18, 2021, landing.</div>,\n",
       " <div class=\"article_teaser_body\">The board will assist with analysis of current plans and goals for one of the most difficult missions humanity has ever undertaken.</div>,\n",
       " <div class=\"article_teaser_body\">Headed to the Red Planet with the Perseverance rover, the pioneering helicopter is powered up for the first time in interplanetary space as part of a systems check.</div>,\n",
       " <div class=\"article_teaser_body\">Marking its 15th anniversary since launch, one of the oldest spacecraft at the Red Planet has provided glimpses of dust devils, avalanches, and more.</div>,\n",
       " <div class=\"article_teaser_body\">Vast areas of the Martian night sky pulse in ultraviolet light, according to images from NASA’s MAVEN spacecraft. The results are being used to illuminate complex circulation patterns in the Martian atmosphere.</div>,\n",
       " <div class=\"article_teaser_body\">The NASA rover touched down eight years ago, on Aug. 5, 2012, and will soon be joined by a second rover, Perseverance.</div>,\n",
       " <div class=\"article_teaser_body\">The agency's Mars 2020 mission is on its way. It will land at Jezero Crater in about seven months, on Feb. 18, 2021. </div>,\n",
       " <div class=\"article_teaser_body\">In a Q&amp;A, spacesuit designer Amy Ross explains how five samples, including a piece of helmet visor, will be tested aboard the rover, which is targeting a July 30 launch. </div>,\n",
       " <div class=\"article_teaser_body\">With a targeted launch date of July 30, the next robotic scientist NASA is sending to the to the Red Planet has big ambitions.</div>,\n",
       " <div class=\"article_teaser_body\">There are lots of ways to participate in the historic event, which is targeted for July 30.</div>,\n",
       " <div class=\"article_teaser_body\">​The agency's Mars 2020 mission has one more big prelaunch review – the Launch Readiness Review, on July 27.</div>,\n",
       " <div class=\"article_teaser_body\">Starting July 27, news activities will cover everything from mission engineering and science to returning samples from Mars to, of course, the launch itself.</div>,\n",
       " <div class=\"article_teaser_body\">The first helicopter attempting to fly on another planet is a marvel of engineering. Get up to speed with these key facts about its plans.</div>,\n",
       " <div class=\"article_teaser_body\">No matter where you live, choose from a menu of activities to join NASA as we \"Countdown to Mars\" and launch the Perseverance rover to the Red Planet.</div>,\n",
       " <div class=\"article_teaser_body\">Ready for its launch later in the month, the Mars-bound rover will touch terra firma no more.</div>,\n",
       " <div class=\"article_teaser_body\">NASA's next rover to the Red Planet is slated to launch no earlier than July 30. These highlights will get you up to speed on the ambitious mission.</div>,\n",
       " <div class=\"article_teaser_body\">Now that the lander's robotic arm has helped the mole get underground, it will resume science activities that have been on hold.</div>,\n",
       " <div class=\"article_teaser_body\">After more than a year in the \"clay-bearing unit,\" Curiosity is making a mile-long journey around some deep sand so that it can explore higher up Mount Sharp.</div>,\n",
       " <div class=\"article_teaser_body\">The small craft will seek to prove that powered, controlled flight is possible on another planet. But just getting it onto the surface of Mars will take a whole lot of ingenuity.</div>,\n",
       " <div class=\"article_teaser_body\">The Red Planet's surface has been visited by eight NASA spacecraft. The ninth will be the first that includes a roundtrip ticket in its flight plan. </div>,\n",
       " <div class=\"article_teaser_body\">Learn more about the agency's next Red Planet mission during a live event on June 17.</div>,\n",
       " <div class=\"article_teaser_body\">This new portrait of the Red Planet's neighbors was taken during a time when there's more dust in the air on Mars.</div>]"
      ]
     },
     "execution_count": 15,
     "metadata": {},
     "output_type": "execute_result"
    }
   ],
   "source": [
    "#Collect paragraph text\n",
    "all_paragraph = soup.find_all(name='div', class_='article_teaser_body')\n",
    "all_paragraph"
   ]
  },
  {
   "cell_type": "code",
   "execution_count": 16,
   "metadata": {},
   "outputs": [
    {
     "data": {
      "text/plain": [
       "\"NASA's Perseverance rover carries a device to convert Martian air into oxygen that, if produced on a larger scale, could be used not just for breathing, but also for fuel.\""
      ]
     },
     "execution_count": 16,
     "metadata": {},
     "output_type": "execute_result"
    }
   ],
   "source": [
    "#Use indexing to get paragraph text from most recent article and save it to variable\n",
    "news_p = all_paragraph[0].text.strip()\n",
    "news_p"
   ]
  },
  {
   "cell_type": "markdown",
   "metadata": {},
   "source": [
    "### JPL Mars Space Images"
   ]
  },
  {
   "cell_type": "code",
   "execution_count": 17,
   "metadata": {},
   "outputs": [],
   "source": [
    "#commenting out so featured image stays the same if I re-run code\n",
    "\n",
    "url = 'https://www.jpl.nasa.gov/spaceimages/?search=&category=Mars'\n",
    "browser.visit(url)"
   ]
  },
  {
   "cell_type": "code",
   "execution_count": 18,
   "metadata": {},
   "outputs": [
    {
     "data": {
      "text/plain": [
       "'https://www.jpl.nasa.gov/spaceimages/images/wallpaper/PIA15883-1920x1200.jpg'"
      ]
     },
     "execution_count": 18,
     "metadata": {},
     "output_type": "execute_result"
    }
   ],
   "source": [
    "#Use splinter to navigate the site and find the image url for the current Featured Mars Image\n",
    "\n",
    "#Create soup\n",
    "soup = bs(browser.html, 'html.parser')\n",
    "\n",
    "#Find feature image url and replace the extra strings with an empty string, so just the url is saved\n",
    "img_url = soup.find('article', class_='carousel_item')['style'].replace('background-image: url(','').replace(');','')[1:-1]\n",
    "\n",
    "#Set main url variable\n",
    "main_url = 'https://www.jpl.nasa.gov'\n",
    "\n",
    "#Concatenate main url with image url, to generate full feature image url and assign the url string to a variable\n",
    "featured_image_url = (main_url + img_url)\n",
    "featured_image_url"
   ]
  },
  {
   "cell_type": "markdown",
   "metadata": {},
   "source": [
    "### Mars Facts"
   ]
  },
  {
   "cell_type": "code",
   "execution_count": 19,
   "metadata": {},
   "outputs": [],
   "source": [
    "#Load in URL\n",
    "url = 'https://space-facts.com/mars/'\n",
    "browser.visit(url)"
   ]
  },
  {
   "cell_type": "code",
   "execution_count": 20,
   "metadata": {},
   "outputs": [
    {
     "data": {
      "text/html": [
       "<div>\n",
       "<style scoped>\n",
       "    .dataframe tbody tr th:only-of-type {\n",
       "        vertical-align: middle;\n",
       "    }\n",
       "\n",
       "    .dataframe tbody tr th {\n",
       "        vertical-align: top;\n",
       "    }\n",
       "\n",
       "    .dataframe thead th {\n",
       "        text-align: right;\n",
       "    }\n",
       "</style>\n",
       "<table border=\"1\" class=\"dataframe\">\n",
       "  <thead>\n",
       "    <tr style=\"text-align: right;\">\n",
       "      <th></th>\n",
       "      <th>0</th>\n",
       "      <th>1</th>\n",
       "    </tr>\n",
       "  </thead>\n",
       "  <tbody>\n",
       "    <tr>\n",
       "      <th>0</th>\n",
       "      <td>Equatorial Diameter:</td>\n",
       "      <td>6,792 km</td>\n",
       "    </tr>\n",
       "    <tr>\n",
       "      <th>1</th>\n",
       "      <td>Polar Diameter:</td>\n",
       "      <td>6,752 km</td>\n",
       "    </tr>\n",
       "    <tr>\n",
       "      <th>2</th>\n",
       "      <td>Mass:</td>\n",
       "      <td>6.39 × 10^23 kg (0.11 Earths)</td>\n",
       "    </tr>\n",
       "    <tr>\n",
       "      <th>3</th>\n",
       "      <td>Moons:</td>\n",
       "      <td>2 (Phobos &amp; Deimos)</td>\n",
       "    </tr>\n",
       "    <tr>\n",
       "      <th>4</th>\n",
       "      <td>Orbit Distance:</td>\n",
       "      <td>227,943,824 km (1.38 AU)</td>\n",
       "    </tr>\n",
       "    <tr>\n",
       "      <th>5</th>\n",
       "      <td>Orbit Period:</td>\n",
       "      <td>687 days (1.9 years)</td>\n",
       "    </tr>\n",
       "    <tr>\n",
       "      <th>6</th>\n",
       "      <td>Surface Temperature:</td>\n",
       "      <td>-87 to -5 °C</td>\n",
       "    </tr>\n",
       "    <tr>\n",
       "      <th>7</th>\n",
       "      <td>First Record:</td>\n",
       "      <td>2nd millennium BC</td>\n",
       "    </tr>\n",
       "    <tr>\n",
       "      <th>8</th>\n",
       "      <td>Recorded By:</td>\n",
       "      <td>Egyptian astronomers</td>\n",
       "    </tr>\n",
       "  </tbody>\n",
       "</table>\n",
       "</div>"
      ],
      "text/plain": [
       "                      0                              1\n",
       "0  Equatorial Diameter:                       6,792 km\n",
       "1       Polar Diameter:                       6,752 km\n",
       "2                 Mass:  6.39 × 10^23 kg (0.11 Earths)\n",
       "3                Moons:            2 (Phobos & Deimos)\n",
       "4       Orbit Distance:       227,943,824 km (1.38 AU)\n",
       "5         Orbit Period:           687 days (1.9 years)\n",
       "6  Surface Temperature:                   -87 to -5 °C\n",
       "7         First Record:              2nd millennium BC\n",
       "8          Recorded By:           Egyptian astronomers"
      ]
     },
     "execution_count": 20,
     "metadata": {},
     "output_type": "execute_result"
    }
   ],
   "source": [
    "#Use pandas to read in html\n",
    "tables = pd.read_html(url)\n",
    "#Find the mars planet profile DF, and use indexing to assign the table to df\n",
    "df = tables[0]\n",
    "df"
   ]
  },
  {
   "cell_type": "code",
   "execution_count": 21,
   "metadata": {},
   "outputs": [
    {
     "name": "stdout",
     "output_type": "stream",
     "text": [
      "<table border=\"1\" class=\"dataframe dataframe\">\n",
      "  <thead>\n",
      "    <tr style=\"text-align: right;\">\n",
      "      <th></th>\n",
      "      <th>0</th>\n",
      "      <th>1</th>\n",
      "    </tr>\n",
      "  </thead>\n",
      "  <tbody>\n",
      "    <tr>\n",
      "      <th>0</th>\n",
      "      <td>Equatorial Diameter:</td>\n",
      "      <td>6,792 km</td>\n",
      "    </tr>\n",
      "    <tr>\n",
      "      <th>1</th>\n",
      "      <td>Polar Diameter:</td>\n",
      "      <td>6,752 km</td>\n",
      "    </tr>\n",
      "    <tr>\n",
      "      <th>2</th>\n",
      "      <td>Mass:</td>\n",
      "      <td>6.39 × 10^23 kg (0.11 Earths)</td>\n",
      "    </tr>\n",
      "    <tr>\n",
      "      <th>3</th>\n",
      "      <td>Moons:</td>\n",
      "      <td>2 (Phobos &amp; Deimos)</td>\n",
      "    </tr>\n",
      "    <tr>\n",
      "      <th>4</th>\n",
      "      <td>Orbit Distance:</td>\n",
      "      <td>227,943,824 km (1.38 AU)</td>\n",
      "    </tr>\n",
      "    <tr>\n",
      "      <th>5</th>\n",
      "      <td>Orbit Period:</td>\n",
      "      <td>687 days (1.9 years)</td>\n",
      "    </tr>\n",
      "    <tr>\n",
      "      <th>6</th>\n",
      "      <td>Surface Temperature:</td>\n",
      "      <td>-87 to -5 °C</td>\n",
      "    </tr>\n",
      "    <tr>\n",
      "      <th>7</th>\n",
      "      <td>First Record:</td>\n",
      "      <td>2nd millennium BC</td>\n",
      "    </tr>\n",
      "    <tr>\n",
      "      <th>8</th>\n",
      "      <td>Recorded By:</td>\n",
      "      <td>Egyptian astronomers</td>\n",
      "    </tr>\n",
      "  </tbody>\n",
      "</table>\n"
     ]
    }
   ],
   "source": [
    "#Convert df to HTML string \n",
    "mars_df = df.to_html(classes= 'dataframe')\n",
    "print(mars_df)"
   ]
  },
  {
   "cell_type": "markdown",
   "metadata": {},
   "source": [
    "### Mars Hemispheres"
   ]
  },
  {
   "cell_type": "code",
   "execution_count": 28,
   "metadata": {},
   "outputs": [],
   "source": [
    "url = 'https://astrogeology.usgs.gov/search/results?q=hemisphere+enhanced&k1=target&v1=Mars'\n",
    "browser.visit(url)"
   ]
  },
  {
   "cell_type": "code",
   "execution_count": 29,
   "metadata": {},
   "outputs": [
    {
     "data": {
      "text/plain": [
       "[{'titles': 'Cerberus Hemisphere Enhanced',\n",
       "  'img_url': 'https://astrogeology.usgs.gov/cache/images/f5e372a36edfa389625da6d0cc25d905_cerberus_enhanced.tif_full.jpg'},\n",
       " {'titles': 'Schiaparelli Hemisphere Enhanced',\n",
       "  'img_url': 'https://astrogeology.usgs.gov/cache/images/3778f7b43bbbc89d6e3cfabb3613ba93_schiaparelli_enhanced.tif_full.jpg'},\n",
       " {'titles': 'Syrtis Major Hemisphere Enhanced',\n",
       "  'img_url': 'https://astrogeology.usgs.gov/cache/images/555e6403a6ddd7ba16ddb0e471cadcf7_syrtis_major_enhanced.tif_full.jpg'},\n",
       " {'titles': 'Valles Marineris Hemisphere Enhanced',\n",
       "  'img_url': 'https://astrogeology.usgs.gov/cache/images/b3c7c6c9138f57b4756be9b9c43e3a48_valles_marineris_enhanced.tif_full.jpg'}]"
      ]
     },
     "execution_count": 29,
     "metadata": {},
     "output_type": "execute_result"
    }
   ],
   "source": [
    "#Create soup\n",
    "soup = bs(browser.html, 'html.parser')\n",
    "\n",
    "#Get all items that have mars hemisphere information\n",
    "items = soup.find_all(name='div', class_='item')\n",
    "\n",
    "#Create empty list for URLS- this will be the list of dicts you append to\n",
    "hempishere_image_urls = []\n",
    "\n",
    "#Store main url\n",
    "main_url = 'https://astrogeology.usgs.gov'\n",
    "\n",
    "#Create loop\n",
    "for i in items:\n",
    "    hem_dict = {}\n",
    "    \n",
    "    #Get titles\n",
    "    title = i.find('h3').text\n",
    "    \n",
    "    #Get partial img url from main page\n",
    "    partial_img_url = i.find('a', class_='itemLink product-item')['href']\n",
    "    \n",
    "    #Go to link that has the full image\n",
    "    browser.visit(main_url + partial_img_url)\n",
    "    \n",
    "    #Create new soup\n",
    "    soup = bs(browser.html, 'html.parser')\n",
    "    \n",
    "    #Get full image source\n",
    "    img_url = main_url + soup.find('img', class_='wide-image')['src']\n",
    "    \n",
    "    hem_dict = {\n",
    "        \"titles\": title,\n",
    "        \"img_url\": img_url\n",
    "    }\n",
    "    \n",
    "    #Append the img names and links to a list of dicts\n",
    "    #hempishere_image_urls.append({\"titles\": title, \"img_url\": img_url})\n",
    "    hempishere_image_urls.append(hem_dict)\n",
    "    \n",
    "#Display dict\n",
    "hempishere_image_urls"
   ]
  },
  {
   "cell_type": "code",
   "execution_count": 25,
   "metadata": {},
   "outputs": [],
   "source": [
    "#browser.exit()"
   ]
  },
  {
   "cell_type": "code",
   "execution_count": null,
   "metadata": {},
   "outputs": [],
   "source": []
  }
 ],
 "metadata": {
  "kernelspec": {
   "display_name": "Python [conda env:PythonData] *",
   "language": "python",
   "name": "conda-env-PythonData-py"
  },
  "language_info": {
   "codemirror_mode": {
    "name": "ipython",
    "version": 3
   },
   "file_extension": ".py",
   "mimetype": "text/x-python",
   "name": "python",
   "nbconvert_exporter": "python",
   "pygments_lexer": "ipython3",
   "version": "3.8.5"
  }
 },
 "nbformat": 4,
 "nbformat_minor": 4
}
